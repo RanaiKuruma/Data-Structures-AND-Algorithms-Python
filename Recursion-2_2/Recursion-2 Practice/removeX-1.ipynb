{
 "cells": [
  {
   "cell_type": "code",
   "execution_count": 18,
   "metadata": {},
   "outputs": [
    {
     "name": "stdout",
     "output_type": "stream",
     "text": [
      "aenon\n"
     ]
    }
   ],
   "source": [
    "def removeX(x,s):\n",
    "    #Base Case \n",
    "    N = len(s)\n",
    "    if(N == 0):\n",
    "        return s\n",
    "        \n",
    "    # Induction Hypothesis\n",
    "    smallString = s[1:]\n",
    "    smallOutput = removeX(x, smallString)\n",
    "\n",
    "    # Induction Step\n",
    "    if(s[0] == x):\n",
    "        return smallOutput\n",
    "\n",
    "    else:\n",
    "        return s[0] + smallOutput\n",
    "\n",
    "s = 'aexnon'            \n",
    "print(removeX('x', s))\n"
   ]
  }
 ],
 "metadata": {
  "interpreter": {
   "hash": "aee8b7b246df8f9039afb4144a1f6fd8d2ca17a180786b69acc140d282b71a49"
  },
  "kernelspec": {
   "display_name": "Python 3.10.1 64-bit",
   "language": "python",
   "name": "python3"
  },
  "language_info": {
   "codemirror_mode": {
    "name": "ipython",
    "version": 3
   },
   "file_extension": ".py",
   "mimetype": "text/x-python",
   "name": "python",
   "nbconvert_exporter": "python",
   "pygments_lexer": "ipython3",
   "version": "3.10.1"
  },
  "orig_nbformat": 4
 },
 "nbformat": 4,
 "nbformat_minor": 2
}
