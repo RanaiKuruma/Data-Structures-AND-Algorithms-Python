{
 "cells": [
  {
   "cell_type": "code",
   "execution_count": 6,
   "metadata": {},
   "outputs": [
    {
     "name": "stdout",
     "output_type": "stream",
     "text": [
      "[1, 2, 3, 4, 5, 6, 7, 8, 9, 10]\n"
     ]
    }
   ],
   "source": [
    "def partiton(a, si, ei):\n",
    "    pivot = a[si]\n",
    "    #Find no of elements smaller than pivot\n",
    "    count = 0\n",
    "    for i in range(si , ei + 1):\n",
    "        if(a[i] < pivot):\n",
    "            count += 1\n",
    "\n",
    "    a[si + count], a[si] = a[si], a[si + count]\n",
    "    pivot_index = si + count\n",
    "\n",
    "    i = si\n",
    "    j = ei\n",
    "    while(i < j):\n",
    "        if(a[i] < pivot):\n",
    "            i += 1\n",
    "\n",
    "        elif(a[j] >= pivot):\n",
    "            j -= 1\n",
    "\n",
    "        else:\n",
    "            a[i], a[j] =  a[j], a[i] \n",
    "            i += 1\n",
    "            j -= 1\n",
    "    return pivot_index              \n",
    "\n",
    "def quickSort(a, si, ei):\n",
    "    if(si >= ei):\n",
    "        return True\n",
    "\n",
    "    pivot_index = partiton(a, si, ei)    \n",
    "    quickSort(a, si, pivot_index - 1)\n",
    "    quickSort(a, pivot_index + 1, ei)\n",
    "\n",
    "a = [6, 10, 9, 8, 7, 1, 3, 5, 4, 2] \n",
    "n = len(a)\n",
    "quickSort(a, 0 , n - 1)\n",
    "print(a)"
   ]
  }
 ],
 "metadata": {
  "interpreter": {
   "hash": "aee8b7b246df8f9039afb4144a1f6fd8d2ca17a180786b69acc140d282b71a49"
  },
  "kernelspec": {
   "display_name": "Python 3.10.1 64-bit",
   "language": "python",
   "name": "python3"
  },
  "language_info": {
   "codemirror_mode": {
    "name": "ipython",
    "version": 3
   },
   "file_extension": ".py",
   "mimetype": "text/x-python",
   "name": "python",
   "nbconvert_exporter": "python",
   "pygments_lexer": "ipython3",
   "version": "3.10.1"
  },
  "orig_nbformat": 4
 },
 "nbformat": 4,
 "nbformat_minor": 2
}
