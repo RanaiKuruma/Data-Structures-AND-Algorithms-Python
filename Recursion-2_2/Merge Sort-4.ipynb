{
 "cells": [
  {
   "cell_type": "code",
   "execution_count": 8,
   "metadata": {},
   "outputs": [
    {
     "name": "stdout",
     "output_type": "stream",
     "text": [
      "[1, 3, 4, 5, 7, 9, 10]\n"
     ]
    }
   ],
   "source": [
    "def merge(a1, a2 ,a):\n",
    "    i = 0\n",
    "    j = 0\n",
    "    k = 0\n",
    "    while(i < len(a1) and j < len(a2)): # Comaprision of elements of 2 lists\n",
    "        if(a1[i] < a2[j]):\n",
    "            a[k] = a1[i]\n",
    "            k += 1\n",
    "            i += 1\n",
    "\n",
    "        else:\n",
    "            a[k] =a2[j]\n",
    "            k += 1\n",
    "            j += 1\n",
    "\n",
    "    while (i < len(a1)): # Adding data in first list\n",
    "        a[k] = a1[i]\n",
    "        k += 1\n",
    "        i += 1\n",
    "\n",
    "    while (j < len(a2)):  # Adding data in second list\n",
    "        a[k] = a2[j]\n",
    "        k += 1\n",
    "        j += 1\n",
    "\n",
    "def mergeSort(a):\n",
    "        n = len(a)\n",
    "        if (n == 0 or n == 1):\n",
    "            return -1\n",
    "\n",
    "        mid = (n) // 2\n",
    "        a1 = a[0:mid]\n",
    "        a2 = a[mid:]\n",
    "\n",
    "        mergeSort(a1)\n",
    "        mergeSort(a2)\n",
    "\n",
    "        merge(a1, a2, a)\n",
    "\n",
    "a = [10, 5, 3, 1, 7, 9, 4]\n",
    "mergeSort(a)\n",
    "print(a)      \n",
    "\n"
   ]
  }
 ],
 "metadata": {
  "interpreter": {
   "hash": "aee8b7b246df8f9039afb4144a1f6fd8d2ca17a180786b69acc140d282b71a49"
  },
  "kernelspec": {
   "display_name": "Python 3.10.1 64-bit",
   "language": "python",
   "name": "python3"
  },
  "language_info": {
   "codemirror_mode": {
    "name": "ipython",
    "version": 3
   },
   "file_extension": ".py",
   "mimetype": "text/x-python",
   "name": "python",
   "nbconvert_exporter": "python",
   "pygments_lexer": "ipython3",
   "version": "3.10.1"
  },
  "orig_nbformat": 4
 },
 "nbformat": 4,
 "nbformat_minor": 2
}
