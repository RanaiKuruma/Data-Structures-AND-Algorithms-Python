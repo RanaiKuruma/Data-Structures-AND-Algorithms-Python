{
 "cells": [
  {
   "cell_type": "code",
   "execution_count": 1,
   "metadata": {},
   "outputs": [
    {
     "data": {
      "text/plain": [
       "'axxadddx'"
      ]
     },
     "execution_count": 1,
     "metadata": {},
     "output_type": "execute_result"
    }
   ],
   "source": [
    "def replaceChar(s,a,b):\n",
    "    if(len(s) == 0):\n",
    "        return s\n",
    "\n",
    "    smallOutput = replaceChar(s[1:], a, b)   \n",
    "\n",
    "    if(s[0] == a):\n",
    "        return b + smallOutput\n",
    "\n",
    "    else:\n",
    "        return s[0] + smallOutput    \n",
    "\n",
    "replaceChar(\"axcadddc\", 'c' , 'x')        \n"
   ]
  }
 ],
 "metadata": {
  "interpreter": {
   "hash": "aee8b7b246df8f9039afb4144a1f6fd8d2ca17a180786b69acc140d282b71a49"
  },
  "kernelspec": {
   "display_name": "Python 3.10.1 64-bit",
   "language": "python",
   "name": "python3"
  },
  "language_info": {
   "codemirror_mode": {
    "name": "ipython",
    "version": 3
   },
   "file_extension": ".py",
   "mimetype": "text/x-python",
   "name": "python",
   "nbconvert_exporter": "python",
   "pygments_lexer": "ipython3",
   "version": "3.10.1"
  },
  "orig_nbformat": 4
 },
 "nbformat": 4,
 "nbformat_minor": 2
}
