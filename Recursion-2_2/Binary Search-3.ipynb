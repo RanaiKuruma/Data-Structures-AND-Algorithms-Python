{
 "cells": [
  {
   "cell_type": "code",
   "execution_count": 3,
   "metadata": {},
   "outputs": [
    {
     "name": "stdout",
     "output_type": "stream",
     "text": [
      "7\n"
     ]
    }
   ],
   "source": [
    "def binarySearch(a, x, si, ei):\n",
    "    if(si > ei):# Base Case\n",
    "        return -1\n",
    "\n",
    "    mid = (si + ei) // 2\n",
    "    if(a[mid] == x):\n",
    "        return mid\n",
    "\n",
    "    elif(a[mid] > x): # On the left side\n",
    "        return binarySearch(a, x, si, mid - 1)    \n",
    "\n",
    "    else: # On the right side\n",
    "        return binarySearch(a, x, mid + 1, ei)\n",
    "\n",
    "l = [1,3,5,7,9,11,13,15,16,17] \n",
    "n = len(l)       \n",
    "print(binarySearch(l, 15, 0, n - 1))\n",
    "\n"
   ]
  }
 ],
 "metadata": {
  "interpreter": {
   "hash": "aee8b7b246df8f9039afb4144a1f6fd8d2ca17a180786b69acc140d282b71a49"
  },
  "kernelspec": {
   "display_name": "Python 3.10.1 64-bit",
   "language": "python",
   "name": "python3"
  },
  "language_info": {
   "codemirror_mode": {
    "name": "ipython",
    "version": 3
   },
   "file_extension": ".py",
   "mimetype": "text/x-python",
   "name": "python",
   "nbconvert_exporter": "python",
   "pygments_lexer": "ipython3",
   "version": "3.10.1"
  },
  "orig_nbformat": 4
 },
 "nbformat": 4,
 "nbformat_minor": 2
}
