{
 "cells": [
  {
   "cell_type": "code",
   "execution_count": 1,
   "metadata": {},
   "outputs": [
    {
     "data": {
      "text/plain": [
       "True"
      ]
     },
     "execution_count": 1,
     "metadata": {},
     "output_type": "execute_result"
    }
   ],
   "source": [
    "def isSorted(a):\n",
    "    l = len(a)\n",
    "    if ( l == 0 or l == 1):\n",
    "        return True\n",
    "\n",
    "    if (a[0] > a[1]):\n",
    "        return False  \n",
    "    smallerList = a[1:]    \n",
    "    isSmallerListSorted = isSorted(smallerList) \n",
    "\n",
    "    # return isSmallerListSorted\n",
    "    if isSmallerListSorted:\n",
    "        return True\n",
    "\n",
    "    else:\n",
    "        return False         \n",
    "\n",
    "a = [1, 2, 3, 4, 5, 6, 7, 8, 9]\n",
    "isSorted(a)\n"
   ]
  }
 ],
 "metadata": {
  "interpreter": {
   "hash": "aee8b7b246df8f9039afb4144a1f6fd8d2ca17a180786b69acc140d282b71a49"
  },
  "kernelspec": {
   "display_name": "Python 3.10.1 64-bit",
   "language": "python",
   "name": "python3"
  },
  "language_info": {
   "codemirror_mode": {
    "name": "ipython",
    "version": 3
   },
   "file_extension": ".py",
   "mimetype": "text/x-python",
   "name": "python",
   "nbconvert_exporter": "python",
   "pygments_lexer": "ipython3",
   "version": "3.10.1"
  },
  "orig_nbformat": 4
 },
 "nbformat": 4,
 "nbformat_minor": 2
}
