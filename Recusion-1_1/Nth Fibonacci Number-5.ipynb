{
 "cells": [
  {
   "cell_type": "code",
   "execution_count": null,
   "metadata": {},
   "outputs": [],
   "source": [
    "def fib(n):\n",
    "    if (n == 1 or n == 2):\n",
    "         return 1\n",
    "    fib_n_1 = fib(n - 1)\n",
    "    fib_n_2 = fib(n - 2)\n",
    "    output = fib_n_1 + fib_n_2\n",
    "    return output\n",
    "\n",
    "n = 5\n",
    "print(fib(n))\n"
   ]
  }
 ],
 "metadata": {
  "interpreter": {
   "hash": "277bb878b519017bb4110b1e89b4b5f4f58e0b40ff7307b2ba8fb130c4a88d50"
  },
  "kernelspec": {
   "display_name": "Python 3.9.7 ('base')",
   "language": "python",
   "name": "python3"
  },
  "language_info": {
   "codemirror_mode": {
    "name": "ipython",
    "version": 3
   },
   "file_extension": ".py",
   "mimetype": "text/x-python",
   "name": "python",
   "nbconvert_exporter": "python",
   "pygments_lexer": "ipython3",
   "version": "3.10.1"
  },
  "orig_nbformat": 4
 },
 "nbformat": 4,
 "nbformat_minor": 2
}
