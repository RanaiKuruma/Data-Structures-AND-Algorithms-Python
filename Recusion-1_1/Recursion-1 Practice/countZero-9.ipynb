{
 "cells": [
  {
   "cell_type": "code",
   "execution_count": 73,
   "metadata": {},
   "outputs": [
    {
     "name": "stdout",
     "output_type": "stream",
     "text": [
      "4\n"
     ]
    }
   ],
   "source": [
    "count=0 #Whenever using a counter in recursion  declare it globally\n",
    "def count_digit(n):\n",
    "    global count\n",
    "    if(n == 0):\n",
    "        return 1\n",
    "    k = n%10 \n",
    "    temp = n//10   \n",
    "    if(k==0):\n",
    "            count +=1\n",
    "    count_digit(temp)\n",
    "    return count\n",
    "n=708000\n",
    "n = int(n)\n",
    "print(count_digit(n))"
   ]
  }
 ],
 "metadata": {
  "interpreter": {
   "hash": "aee8b7b246df8f9039afb4144a1f6fd8d2ca17a180786b69acc140d282b71a49"
  },
  "kernelspec": {
   "display_name": "Python 3.10.1 64-bit",
   "language": "python",
   "name": "python3"
  },
  "language_info": {
   "codemirror_mode": {
    "name": "ipython",
    "version": 3
   },
   "file_extension": ".py",
   "mimetype": "text/x-python",
   "name": "python",
   "nbconvert_exporter": "python",
   "pygments_lexer": "ipython3",
   "version": "3.10.1"
  },
  "orig_nbformat": 4
 },
 "nbformat": 4,
 "nbformat_minor": 2
}
