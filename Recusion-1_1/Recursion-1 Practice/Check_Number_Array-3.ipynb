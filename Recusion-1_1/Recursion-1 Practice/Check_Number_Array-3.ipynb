{
 "cells": [
  {
   "cell_type": "code",
   "execution_count": 1,
   "metadata": {},
   "outputs": [
    {
     "name": "stdout",
     "output_type": "stream",
     "text": [
      "true\n",
      "None\n"
     ]
    }
   ],
   "source": [
    "def check_Number_Array(a, x):\n",
    "    N = len(a)\n",
    "\n",
    "    if (N == 1):\n",
    "        return True\n",
    "\n",
    "    b = a[1:]\n",
    "    if x in b:\n",
    "        print(\"true\")\n",
    "\n",
    "    else:\n",
    "        print(\"false\")\n",
    "\n",
    "\n",
    "# print(len(l))        \n",
    "l = [15, 24, 58, 61, 79, 3, 97, 81, 81, 45, 62, 21, 72, 72, 68, 45, 11, 50, 87, 20, 28, 77, 51, 89, 58, 66, ]\n",
    "print(check_Number_Array(l, 24))\n"
   ]
  }
 ],
 "metadata": {
  "interpreter": {
   "hash": "aee8b7b246df8f9039afb4144a1f6fd8d2ca17a180786b69acc140d282b71a49"
  },
  "kernelspec": {
   "display_name": "Python 3.10.1 64-bit",
   "language": "python",
   "name": "python3"
  },
  "language_info": {
   "codemirror_mode": {
    "name": "ipython",
    "version": 3
   },
   "file_extension": ".py",
   "mimetype": "text/x-python",
   "name": "python",
   "nbconvert_exporter": "python",
   "pygments_lexer": "ipython3",
   "version": "3.10.1"
  },
  "orig_nbformat": 4
 },
 "nbformat": 4,
 "nbformat_minor": 2
}
