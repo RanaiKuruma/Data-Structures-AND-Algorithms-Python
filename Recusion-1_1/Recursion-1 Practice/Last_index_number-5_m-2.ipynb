{
 "cells": [
  {
   "cell_type": "code",
   "execution_count": 1,
   "metadata": {},
   "outputs": [
    {
     "name": "stdout",
     "output_type": "stream",
     "text": [
      "3\n"
     ]
    }
   ],
   "source": [
    "def lastIndex(a, x, si):\n",
    "    N = len(a)\n",
    "    if(si == N):\n",
    "        return -1\n",
    "    smallerListOutput = lastIndex(a, x, si + 1)    \n",
    "    if(smallerListOutput != -1):\n",
    "        return smallerListOutput \n",
    "    else:\n",
    "        if(a[si] == x):\n",
    "            return si\n",
    "        else:\n",
    "            return -1\n",
    "\n",
    "a = [1, 4, 5, 4, 8]                    \n",
    "print(lastIndex(a, 4, 0))\n"
   ]
  }
 ],
 "metadata": {
  "interpreter": {
   "hash": "aee8b7b246df8f9039afb4144a1f6fd8d2ca17a180786b69acc140d282b71a49"
  },
  "kernelspec": {
   "display_name": "Python 3.10.1 64-bit",
   "language": "python",
   "name": "python3"
  },
  "language_info": {
   "codemirror_mode": {
    "name": "ipython",
    "version": 3
   },
   "file_extension": ".py",
   "mimetype": "text/x-python",
   "name": "python",
   "nbconvert_exporter": "python",
   "pygments_lexer": "ipython3",
   "version": "3.10.1"
  },
  "orig_nbformat": 4
 },
 "nbformat": 4,
 "nbformat_minor": 2
}
