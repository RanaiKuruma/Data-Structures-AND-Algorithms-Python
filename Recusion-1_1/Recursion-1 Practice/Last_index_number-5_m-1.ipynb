{
 "cells": [
  {
   "cell_type": "code",
   "execution_count": 1,
   "metadata": {},
   "outputs": [
    {
     "name": "stdout",
     "output_type": "stream",
     "text": [
      "3\n"
     ]
    }
   ],
   "source": [
    "def lastIndex(a, x):\n",
    "    N = len(a)\n",
    "    if(N == 0):\n",
    "        return -1  \n",
    "    b = a[1:]\n",
    "    smallerListOutput = lastIndex(b, x) \n",
    "    if(smallerListOutput != -1):\n",
    "        return smallerListOutput + 1\n",
    "    else:\n",
    "         if(a[0] == x):\n",
    "             return 0\n",
    "         else:\n",
    "             return -1    \n",
    "\n",
    "a = [9, 8, 10, 8, 7]    \n",
    "print(lastIndex(a, 8))\n",
    "\n"
   ]
  }
 ],
 "metadata": {
  "interpreter": {
   "hash": "aee8b7b246df8f9039afb4144a1f6fd8d2ca17a180786b69acc140d282b71a49"
  },
  "kernelspec": {
   "display_name": "Python 3.10.1 64-bit",
   "language": "python",
   "name": "python3"
  },
  "language_info": {
   "codemirror_mode": {
    "name": "ipython",
    "version": 3
   },
   "file_extension": ".py",
   "mimetype": "text/x-python",
   "name": "python",
   "nbconvert_exporter": "python",
   "pygments_lexer": "ipython3",
   "version": "3.10.1"
  },
  "orig_nbformat": 4
 },
 "nbformat": 4,
 "nbformat_minor": 2
}
