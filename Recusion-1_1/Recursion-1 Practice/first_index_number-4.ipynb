{
 "cells": [
  {
   "cell_type": "code",
   "execution_count": 49,
   "metadata": {},
   "outputs": [
    {
     "name": "stdout",
     "output_type": "stream",
     "text": [
      "6\n"
     ]
    }
   ],
   "source": [
    "def firstIndex(a, x):\n",
    "    N = len(a)\n",
    "    if(N == 0):\n",
    "        return -1\n",
    "    if(a[0] == x):\n",
    "        return 0\n",
    "    b = a[1:]        \n",
    "    smallerOutput = firstIndex(b, x)\n",
    "    if(smallerOutput == -1):\n",
    "        return -1\n",
    "    else:\n",
    "        return smallerOutput + 1\n",
    "l = [1, 2, 3, 4, 5, 6, 7, 8, 9, 7]\n",
    "print(firstIndex(l, 7))\n",
    "\n"
   ]
  }
 ],
 "metadata": {
  "interpreter": {
   "hash": "aee8b7b246df8f9039afb4144a1f6fd8d2ca17a180786b69acc140d282b71a49"
  },
  "kernelspec": {
   "display_name": "Python 3.10.1 64-bit",
   "language": "python",
   "name": "python3"
  },
  "language_info": {
   "codemirror_mode": {
    "name": "ipython",
    "version": 3
   },
   "file_extension": ".py",
   "mimetype": "text/x-python",
   "name": "python",
   "nbconvert_exporter": "python",
   "pygments_lexer": "ipython3",
   "version": "3.10.1"
  },
  "orig_nbformat": 4
 },
 "nbformat": 4,
 "nbformat_minor": 2
}
