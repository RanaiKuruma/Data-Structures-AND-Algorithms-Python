{
 "cells": [
  {
   "cell_type": "code",
   "execution_count": 2,
   "metadata": {},
   "outputs": [
    {
     "name": "stdout",
     "output_type": "stream",
     "text": [
      "1.87500\n",
      "1.93750\n",
      "1.96875\n"
     ]
    }
   ],
   "source": [
    "def gSum(k):\n",
    "    if(k == 0):\n",
    "        return 1 \n",
    "    a =  gSum(k - 1)       \n",
    "    return 1/(2**k) + a\n",
    "k = 3\n",
    "s = gSum(k)\n",
    "s = format(s,'0.5f')  \n",
    "print(s)\n",
    "\n",
    "k = 4\n",
    "s = gSum(k)\n",
    "s = format(s,'0.5f')  \n",
    "print(s)\n",
    "\n",
    "\n",
    "k = 5\n",
    "s = gSum(k)\n",
    "s = format(s,'0.5f')  \n",
    "print(s)"
   ]
  }
 ],
 "metadata": {
  "interpreter": {
   "hash": "aee8b7b246df8f9039afb4144a1f6fd8d2ca17a180786b69acc140d282b71a49"
  },
  "kernelspec": {
   "display_name": "Python 3.10.1 64-bit",
   "language": "python",
   "name": "python3"
  },
  "language_info": {
   "codemirror_mode": {
    "name": "ipython",
    "version": 3
   },
   "file_extension": ".py",
   "mimetype": "text/x-python",
   "name": "python",
   "nbconvert_exporter": "python",
   "pygments_lexer": "ipython3",
   "version": "3.10.1"
  },
  "orig_nbformat": 4
 },
 "nbformat": 4,
 "nbformat_minor": 2
}
