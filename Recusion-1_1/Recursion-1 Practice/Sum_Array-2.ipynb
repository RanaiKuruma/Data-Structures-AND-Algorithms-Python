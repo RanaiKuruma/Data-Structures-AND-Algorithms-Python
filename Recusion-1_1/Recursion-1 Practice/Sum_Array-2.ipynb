{
 "cells": [
  {
   "cell_type": "code",
   "execution_count": 11,
   "metadata": {},
   "outputs": [
    {
     "name": "stdout",
     "output_type": "stream",
     "text": [
      "1421\n",
      "26\n",
      "1868\n",
      "427\n"
     ]
    }
   ],
   "source": [
    "def sum_Array(l):\n",
    "    N = len(l)\n",
    "    sum_A = 0\n",
    "    #Base Case\n",
    "    if(N == 0):\n",
    "        return 0\n",
    "    #Induction Hypothesis\n",
    "    else:\n",
    "        for i in range(N):\n",
    "            sum_A += l[i]\n",
    "        \n",
    "        return sum_A\n",
    "            \n",
    "l1 = [15, 24, 58, 61, 79, 3, 97, 81, 81, 45, 62, 21, 72, 72, 68, 45, 11, 50, 87, 20, 28, 77, 51, 89, 58, 66 ]  \n",
    "\n",
    "l2 = [34, 57, 82, 41, 65, 35, 82, 27, 36, 12, 6, 40, 66, 99, 25, 29, 22, 25, 12, 24, 65, 15, 5, 43, 28, 33, 76, 32, 13, 95, 22, 84, 71, 23, 28, 7, 65, 94, 18, 47, 9, 42, 61, 73 ]\n",
    "\n",
    "l3 = [21, 22, 46, 12, 61, 21, 33, 16, 99, 96 ]\n",
    "\n",
    "print(sum_Array(l1))\n",
    "print(len(l1))\n",
    "\n",
    "print(sum_Array(l2))\n",
    "print(sum_Array(l3))\n",
    "\n",
    "        "
   ]
  }
 ],
 "metadata": {
  "interpreter": {
   "hash": "aee8b7b246df8f9039afb4144a1f6fd8d2ca17a180786b69acc140d282b71a49"
  },
  "kernelspec": {
   "display_name": "Python 3.10.1 64-bit",
   "language": "python",
   "name": "python3"
  },
  "language_info": {
   "codemirror_mode": {
    "name": "ipython",
    "version": 3
   },
   "file_extension": ".py",
   "mimetype": "text/x-python",
   "name": "python",
   "nbconvert_exporter": "python",
   "pygments_lexer": "ipython3",
   "version": "3.10.1"
  },
  "orig_nbformat": 4
 },
 "nbformat": 4,
 "nbformat_minor": 2
}
