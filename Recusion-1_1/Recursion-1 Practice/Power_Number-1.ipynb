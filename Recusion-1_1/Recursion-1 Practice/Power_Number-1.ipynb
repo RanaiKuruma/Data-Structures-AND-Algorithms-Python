{
 "cells": [
  {
   "cell_type": "code",
   "execution_count": null,
   "metadata": {},
   "outputs": [],
   "source": [
    "def pow_n(x, n):\n",
    "    if(n == 0):\n",
    "        return 1\n",
    "    else:\n",
    "        return x * pow_n(x, n-1)    \n",
    "\n",
    "x = int(input())\n",
    "n = int(input())        \n",
    "\n",
    "print(pow_n(x, n))\n"
   ]
  }
 ],
 "metadata": {
  "language_info": {
   "name": "python"
  },
  "orig_nbformat": 4
 },
 "nbformat": 4,
 "nbformat_minor": 2
}
