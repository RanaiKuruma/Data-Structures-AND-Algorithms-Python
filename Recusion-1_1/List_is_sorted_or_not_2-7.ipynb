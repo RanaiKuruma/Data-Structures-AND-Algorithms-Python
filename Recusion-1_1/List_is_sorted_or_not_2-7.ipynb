{
 "cells": [
  {
   "cell_type": "code",
   "execution_count": 11,
   "metadata": {},
   "outputs": [
    {
     "data": {
      "text/plain": [
       "True"
      ]
     },
     "execution_count": 11,
     "metadata": {},
     "output_type": "execute_result"
    }
   ],
   "source": [
    "def isSortedBetter(a, si):\n",
    "    l = len(a)\n",
    "    if (si == l - 1 or si == l):\n",
    "        return True\n",
    "    if(a[si] > a[si + 1]):\n",
    "        return False\n",
    "    isSmallerPartSorted = isSortedBetter(a, si + 1)       \n",
    "    return isSmallerPartSorted\n",
    "\n",
    "a = [1, 2, 3, 4, 5, 6, 7, 8, 9]    \n",
    "isSortedBetter(a, 0)\n",
    "\n"
   ]
  }
 ],
 "metadata": {
  "interpreter": {
   "hash": "aee8b7b246df8f9039afb4144a1f6fd8d2ca17a180786b69acc140d282b71a49"
  },
  "kernelspec": {
   "display_name": "Python 3.10.1 64-bit",
   "language": "python",
   "name": "python3"
  },
  "language_info": {
   "codemirror_mode": {
    "name": "ipython",
    "version": 3
   },
   "file_extension": ".py",
   "mimetype": "text/x-python",
   "name": "python",
   "nbconvert_exporter": "python",
   "pygments_lexer": "ipython3",
   "version": "3.10.1"
  },
  "orig_nbformat": 4
 },
 "nbformat": 4,
 "nbformat_minor": 2
}
