{
 "cells": [
  {
   "cell_type": "code",
   "execution_count": null,
   "metadata": {},
   "outputs": [],
   "source": [
    "def print_nto_1(n):\n",
    "    if(n == 0): # Base Case\n",
    "        return None\n",
    "    print_nto_1(n - 1) # Induction Hypothesis\n",
    "    print(n)\n",
    "    \n",
    "n = int(input()) \n",
    "print(print_nto_1(n))   \n",
    "\n",
    "\n"
   ]
  }
 ],
 "metadata": {
  "language_info": {
   "name": "python"
  },
  "orig_nbformat": 4
 },
 "nbformat": 4,
 "nbformat_minor": 2
}
